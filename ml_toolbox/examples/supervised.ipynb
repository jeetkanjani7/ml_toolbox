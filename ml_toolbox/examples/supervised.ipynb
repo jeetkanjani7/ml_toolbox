{
 "cells": [
  {
   "cell_type": "code",
   "execution_count": 1,
   "id": "federal-polymer",
   "metadata": {},
   "outputs": [],
   "source": [
    "%load_ext autoreload\n",
    "%autoreload 2"
   ]
  },
  {
   "cell_type": "code",
   "execution_count": 5,
   "id": "round-china",
   "metadata": {},
   "outputs": [],
   "source": [
    "from ml_toolbox.nn import NeuralNetwork\n",
    "from ml_toolbox.lr import LogisticRegression\n",
    "from ml_toolbox.gnb import NaiveBayes\n",
    "from ml_toolbox.dtree import DecisionTree\n",
    "from ml_toolbox.utils.data import read_csv_data"
   ]
  },
  {
   "cell_type": "code",
   "execution_count": 6,
   "id": "overall-elizabeth",
   "metadata": {},
   "outputs": [],
   "source": [
    "import numpy as np\n",
    "from sklearn.neural_network import MLPClassifier"
   ]
  },
  {
   "cell_type": "code",
   "execution_count": 9,
   "id": "everyday-worst",
   "metadata": {},
   "outputs": [],
   "source": [
    "train_filename = '../data/smallTrain.csv'\n",
    "valid_filename = '../data/smallValidation.csv'"
   ]
  },
  {
   "cell_type": "code",
   "execution_count": 10,
   "id": "generous-winning",
   "metadata": {},
   "outputs": [],
   "source": [
    "## Read data\n",
    "train_labels, train_features = read_csv_data(train_filename)\n",
    "valid_labels, valid_features = read_csv_data(valid_filename)\n",
    "\n",
    "\n",
    "# X = np.array([[0., 0.], [1., 1.]])\n",
    "# X_valid = np.array([[0., 1.]])\n",
    "# y = np.array([0, 1])"
   ]
  },
  {
   "cell_type": "code",
   "execution_count": 25,
   "id": "economic-installation",
   "metadata": {},
   "outputs": [],
   "source": [
    "nn = NeuralNetwork(train_features, train_labels, learning_rate=0.1, num_classes=10, hidden_units=4, epochs=2, flag= 2)"
   ]
  },
  {
   "cell_type": "code",
   "execution_count": 31,
   "id": "dynamic-suite",
   "metadata": {},
   "outputs": [
    {
     "data": {
      "text/plain": [
       "\u001b[0;31mInit signature:\u001b[0m\n",
       "\u001b[0mLogisticRegression\u001b[0m\u001b[0;34m(\u001b[0m\u001b[0;34m\u001b[0m\n",
       "\u001b[0;34m\u001b[0m    \u001b[0mtrain_formatted_output\u001b[0m\u001b[0;34m,\u001b[0m\u001b[0;34m\u001b[0m\n",
       "\u001b[0;34m\u001b[0m    \u001b[0mtest_formatted_output\u001b[0m\u001b[0;34m,\u001b[0m\u001b[0;34m\u001b[0m\n",
       "\u001b[0;34m\u001b[0m    \u001b[0mvalid_formatted_output\u001b[0m\u001b[0;34m,\u001b[0m\u001b[0;34m\u001b[0m\n",
       "\u001b[0;34m\u001b[0m    \u001b[0minput_dict_filename\u001b[0m\u001b[0;34m,\u001b[0m\u001b[0;34m\u001b[0m\n",
       "\u001b[0;34m\u001b[0m    \u001b[0mtrain_file\u001b[0m\u001b[0;34m,\u001b[0m\u001b[0;34m\u001b[0m\n",
       "\u001b[0;34m\u001b[0m    \u001b[0mtest_file\u001b[0m\u001b[0;34m,\u001b[0m\u001b[0;34m\u001b[0m\n",
       "\u001b[0;34m\u001b[0m    \u001b[0mmetrics_out\u001b[0m\u001b[0;34m,\u001b[0m\u001b[0;34m\u001b[0m\n",
       "\u001b[0;34m\u001b[0m    \u001b[0mlr\u001b[0m\u001b[0;34m=\u001b[0m\u001b[0;36m0.1\u001b[0m\u001b[0;34m,\u001b[0m\u001b[0;34m\u001b[0m\n",
       "\u001b[0;34m\u001b[0m    \u001b[0mepochs\u001b[0m\u001b[0;34m=\u001b[0m\u001b[0;36m30\u001b[0m\u001b[0;34m,\u001b[0m\u001b[0;34m\u001b[0m\n",
       "\u001b[0;34m\u001b[0m\u001b[0;34m)\u001b[0m\u001b[0;34m\u001b[0m\u001b[0;34m\u001b[0m\u001b[0m\n",
       "\u001b[0;31mDocstring:\u001b[0m      <no docstring>\n",
       "\u001b[0;31mFile:\u001b[0m           ~/Repos/ml_toolbox/ml_toolbox/lr.py\n",
       "\u001b[0;31mType:\u001b[0m           type\n",
       "\u001b[0;31mSubclasses:\u001b[0m     \n"
      ]
     },
     "metadata": {},
     "output_type": "display_data"
    }
   ],
   "source": [
    "LogisticRegression?"
   ]
  },
  {
   "cell_type": "code",
   "execution_count": 32,
   "id": "rocky-parade",
   "metadata": {},
   "outputs": [
    {
     "ename": "TypeError",
     "evalue": "__init__() got an unexpected keyword argument 'learning_rate'",
     "output_type": "error",
     "traceback": [
      "\u001b[0;31m---------------------------------------------------------------------------\u001b[0m",
      "\u001b[0;31mTypeError\u001b[0m                                 Traceback (most recent call last)",
      "\u001b[0;32m<ipython-input-32-f13a87371dc5>\u001b[0m in \u001b[0;36m<module>\u001b[0;34m\u001b[0m\n\u001b[0;32m----> 1\u001b[0;31m \u001b[0mlr\u001b[0m \u001b[0;34m=\u001b[0m \u001b[0mLogisticRegression\u001b[0m\u001b[0;34m(\u001b[0m\u001b[0mtrain_features\u001b[0m\u001b[0;34m,\u001b[0m \u001b[0mtrain_labels\u001b[0m\u001b[0;34m,\u001b[0m \u001b[0mlearning_rate\u001b[0m\u001b[0;34m=\u001b[0m\u001b[0;36m0.1\u001b[0m\u001b[0;34m,\u001b[0m \u001b[0mnum_classes\u001b[0m\u001b[0;34m=\u001b[0m\u001b[0;36m10\u001b[0m\u001b[0;34m,\u001b[0m \u001b[0mhidden_units\u001b[0m\u001b[0;34m=\u001b[0m\u001b[0;36m4\u001b[0m\u001b[0;34m,\u001b[0m \u001b[0mepochs\u001b[0m\u001b[0;34m=\u001b[0m\u001b[0;36m100\u001b[0m\u001b[0;34m)\u001b[0m\u001b[0;34m\u001b[0m\u001b[0;34m\u001b[0m\u001b[0m\n\u001b[0m",
      "\u001b[0;31mTypeError\u001b[0m: __init__() got an unexpected keyword argument 'learning_rate'"
     ]
    }
   ],
   "source": [
    "lr = LogisticRegression(train_features, train_labels, learning_rate=0.1, num_classes=10, hidden_units=4, epochs=100)"
   ]
  },
  {
   "cell_type": "code",
   "execution_count": 26,
   "id": "classical-launch",
   "metadata": {},
   "outputs": [],
   "source": [
    "nn.train(train_features, train_labels, 'metrics.out')\n",
    "# nn.predict()\n",
    "# nn.y_preds"
   ]
  },
  {
   "cell_type": "code",
   "execution_count": 29,
   "id": "quantitative-lesson",
   "metadata": {},
   "outputs": [
    {
     "data": {
      "text/plain": [
       "0.77"
      ]
     },
     "execution_count": 29,
     "metadata": {},
     "output_type": "execute_result"
    }
   ],
   "source": [
    "nn.validation_err"
   ]
  },
  {
   "cell_type": "code",
   "execution_count": 52,
   "id": "fresh-niger",
   "metadata": {},
   "outputs": [
    {
     "data": {
      "text/plain": [
       "array([6, 9, 3, 7, 8, 1, 4, 4, 5, 3, 6, 4, 3, 7, 9, 7, 0, 7, 9, 9, 7, 5,\n",
       "       2, 0, 5, 3, 8, 6, 5, 7, 6, 3, 9, 1, 6, 9, 4, 9, 6, 6, 4, 3, 6, 9,\n",
       "       0, 5, 2, 1, 2, 3, 8, 0, 3, 8, 9, 4, 2, 0, 7, 1, 2, 5, 8, 7, 2, 4,\n",
       "       5, 2, 1, 7, 5, 5, 0, 2, 9, 9, 0, 8, 9, 4, 4, 7, 7, 3, 8, 8, 7, 1,\n",
       "       1, 2, 1, 5, 4, 0, 8, 1, 8, 9, 5, 7, 1, 0, 2, 7, 9, 5, 0, 6, 9, 3,\n",
       "       0, 8, 8, 1, 0, 8, 5, 2, 2, 5, 6, 5, 6, 3, 2, 8, 3, 7, 3, 8, 0, 4,\n",
       "       9, 8, 6, 9, 0, 3, 3, 5, 3, 2, 4, 7, 2, 9, 4, 9, 0, 2, 8, 1, 2, 9,\n",
       "       5, 1, 5, 1, 8, 1, 1, 9, 3, 4, 4, 2, 5, 2, 5, 5, 7, 2, 1, 9, 6, 3,\n",
       "       5, 0, 1, 7, 3, 5, 6, 8, 1, 3, 1, 4, 1, 3, 8, 2, 5, 1, 5, 7, 6, 9,\n",
       "       8, 8, 9, 3, 1, 2, 7, 8, 4, 5, 1, 6, 2, 5, 6, 9, 6, 9, 8, 8, 9, 8,\n",
       "       1, 0, 5, 9, 5, 6, 0, 2, 3, 0, 1, 8, 3, 2, 1, 9, 9, 4, 7, 3, 4, 5,\n",
       "       8, 3, 9, 9, 4, 2, 4, 1, 2, 3, 5, 5, 9, 6, 0, 0, 5, 5, 3, 0, 9, 4,\n",
       "       1, 7, 4, 6, 4, 8, 3, 2, 0, 5, 1, 0, 3, 6, 0, 2, 8, 7, 7, 8, 0, 3,\n",
       "       9, 0, 2, 7, 7, 4, 6, 9, 2, 7, 0, 1, 3, 3, 8, 6, 9, 6, 5, 9, 7, 8,\n",
       "       2, 8, 3, 6, 7, 6, 8, 9, 4, 1, 8, 5, 9, 6, 2, 9, 4, 2, 4, 1, 8, 6,\n",
       "       3, 5, 4, 6, 2, 9, 0, 3, 0, 1, 1, 8, 4, 3, 6, 0, 7, 8, 5, 5, 2, 5,\n",
       "       0, 7, 6, 4, 7, 0, 9, 7, 4, 6, 4, 2, 9, 9, 7, 8, 4, 4, 1, 6, 9, 0,\n",
       "       6, 5, 2, 0, 7, 9, 9, 7, 5, 7, 7, 5, 0, 2, 3, 7, 4, 6, 0, 1, 1, 7,\n",
       "       0, 3, 6, 2, 5, 3, 1, 1, 3, 7, 5, 7, 1, 5, 2, 8, 3, 4, 7, 6, 3, 5,\n",
       "       3, 7, 8, 1, 7, 4, 3, 0, 0, 3, 7, 8, 4, 6, 1, 6, 4, 2, 3, 2, 1, 6,\n",
       "       4, 3, 0, 7, 6, 2, 4, 4, 0, 4, 0, 1, 7, 1, 4, 2, 9, 0, 8, 2, 1, 4,\n",
       "       0, 0, 8, 6, 5, 0, 6, 1, 4, 2, 7, 4, 4, 9, 3, 7, 5, 8, 8, 2, 2, 6,\n",
       "       8, 1, 8, 0, 4, 8, 6, 1, 6, 0, 6, 3, 0, 2, 6, 6])"
      ]
     },
     "execution_count": 52,
     "metadata": {},
     "output_type": "execute_result"
    }
   ],
   "source": [
    "train_labels"
   ]
  },
  {
   "cell_type": "code",
   "execution_count": 70,
   "id": "complicated-wyoming",
   "metadata": {
    "collapsed": true,
    "jupyter": {
     "outputs_hidden": true
    }
   },
   "outputs": [
    {
     "ename": "AttributeError",
     "evalue": "'str' object has no attribute 'decode'",
     "output_type": "error",
     "traceback": [
      "\u001b[0;31m---------------------------------------------------------------------------\u001b[0m",
      "\u001b[0;31mAttributeError\u001b[0m                            Traceback (most recent call last)",
      "\u001b[0;32m<ipython-input-70-12ebc27f6deb>\u001b[0m in \u001b[0;36m<module>\u001b[0;34m\u001b[0m\n\u001b[1;32m      1\u001b[0m \u001b[0;31m## test against Sckit Learn\u001b[0m\u001b[0;34m\u001b[0m\u001b[0;34m\u001b[0m\u001b[0;34m\u001b[0m\u001b[0m\n\u001b[1;32m      2\u001b[0m \u001b[0mclf\u001b[0m \u001b[0;34m=\u001b[0m \u001b[0mMLPClassifier\u001b[0m\u001b[0;34m(\u001b[0m\u001b[0msolver\u001b[0m\u001b[0;34m=\u001b[0m\u001b[0;34m'lbfgs'\u001b[0m\u001b[0;34m,\u001b[0m \u001b[0malpha\u001b[0m\u001b[0;34m=\u001b[0m\u001b[0;36m0.1\u001b[0m\u001b[0;34m,\u001b[0m \u001b[0mhidden_layer_sizes\u001b[0m\u001b[0;34m=\u001b[0m\u001b[0;34m(\u001b[0m\u001b[0;36m4\u001b[0m\u001b[0;34m,\u001b[0m\u001b[0;34m)\u001b[0m\u001b[0;34m,\u001b[0m \u001b[0mrandom_state\u001b[0m\u001b[0;34m=\u001b[0m\u001b[0;36m1\u001b[0m\u001b[0;34m)\u001b[0m\u001b[0;34m\u001b[0m\u001b[0;34m\u001b[0m\u001b[0m\n\u001b[0;32m----> 3\u001b[0;31m \u001b[0mclf\u001b[0m\u001b[0;34m.\u001b[0m\u001b[0mfit\u001b[0m\u001b[0;34m(\u001b[0m\u001b[0mtrain_features\u001b[0m\u001b[0;34m,\u001b[0m \u001b[0mtrain_labels\u001b[0m\u001b[0;34m)\u001b[0m\u001b[0;34m\u001b[0m\u001b[0;34m\u001b[0m\u001b[0m\n\u001b[0m\u001b[1;32m      4\u001b[0m \u001b[0;31m# clf.predict([[2., 2.], [-1., -2.]])\u001b[0m\u001b[0;34m\u001b[0m\u001b[0;34m\u001b[0m\u001b[0;34m\u001b[0m\u001b[0m\n",
      "\u001b[0;32m~/miniconda3/lib/python3.8/site-packages/sklearn/neural_network/_multilayer_perceptron.py\u001b[0m in \u001b[0;36mfit\u001b[0;34m(self, X, y)\u001b[0m\n\u001b[1;32m    992\u001b[0m         \u001b[0mself\u001b[0m \u001b[0;34m:\u001b[0m \u001b[0mreturns\u001b[0m \u001b[0ma\u001b[0m \u001b[0mtrained\u001b[0m \u001b[0mMLP\u001b[0m \u001b[0mmodel\u001b[0m\u001b[0;34m.\u001b[0m\u001b[0;34m\u001b[0m\u001b[0;34m\u001b[0m\u001b[0m\n\u001b[1;32m    993\u001b[0m         \"\"\"\n\u001b[0;32m--> 994\u001b[0;31m         return self._fit(X, y, incremental=(self.warm_start and\n\u001b[0m\u001b[1;32m    995\u001b[0m                                             hasattr(self, \"classes_\")))\n\u001b[1;32m    996\u001b[0m \u001b[0;34m\u001b[0m\u001b[0m\n",
      "\u001b[0;32m~/miniconda3/lib/python3.8/site-packages/sklearn/neural_network/_multilayer_perceptron.py\u001b[0m in \u001b[0;36m_fit\u001b[0;34m(self, X, y, incremental)\u001b[0m\n\u001b[1;32m    372\u001b[0m         \u001b[0;31m# Run the LBFGS solver\u001b[0m\u001b[0;34m\u001b[0m\u001b[0;34m\u001b[0m\u001b[0;34m\u001b[0m\u001b[0m\n\u001b[1;32m    373\u001b[0m         \u001b[0;32melif\u001b[0m \u001b[0mself\u001b[0m\u001b[0;34m.\u001b[0m\u001b[0msolver\u001b[0m \u001b[0;34m==\u001b[0m \u001b[0;34m'lbfgs'\u001b[0m\u001b[0;34m:\u001b[0m\u001b[0;34m\u001b[0m\u001b[0;34m\u001b[0m\u001b[0m\n\u001b[0;32m--> 374\u001b[0;31m             self._fit_lbfgs(X, y, activations, deltas, coef_grads,\n\u001b[0m\u001b[1;32m    375\u001b[0m                             intercept_grads, layer_units)\n\u001b[1;32m    376\u001b[0m         \u001b[0;32mreturn\u001b[0m \u001b[0mself\u001b[0m\u001b[0;34m\u001b[0m\u001b[0;34m\u001b[0m\u001b[0m\n",
      "\u001b[0;32m~/miniconda3/lib/python3.8/site-packages/sklearn/neural_network/_multilayer_perceptron.py\u001b[0m in \u001b[0;36m_fit_lbfgs\u001b[0;34m(self, X, y, activations, deltas, coef_grads, intercept_grads, layer_units)\u001b[0m\n\u001b[1;32m    468\u001b[0m                 },\n\u001b[1;32m    469\u001b[0m                 args=(X, y, activations, deltas, coef_grads, intercept_grads))\n\u001b[0;32m--> 470\u001b[0;31m         \u001b[0mself\u001b[0m\u001b[0;34m.\u001b[0m\u001b[0mn_iter_\u001b[0m \u001b[0;34m=\u001b[0m \u001b[0m_check_optimize_result\u001b[0m\u001b[0;34m(\u001b[0m\u001b[0;34m\"lbfgs\"\u001b[0m\u001b[0;34m,\u001b[0m \u001b[0mopt_res\u001b[0m\u001b[0;34m,\u001b[0m \u001b[0mself\u001b[0m\u001b[0;34m.\u001b[0m\u001b[0mmax_iter\u001b[0m\u001b[0;34m)\u001b[0m\u001b[0;34m\u001b[0m\u001b[0;34m\u001b[0m\u001b[0m\n\u001b[0m\u001b[1;32m    471\u001b[0m         \u001b[0mself\u001b[0m\u001b[0;34m.\u001b[0m\u001b[0mloss_\u001b[0m \u001b[0;34m=\u001b[0m \u001b[0mopt_res\u001b[0m\u001b[0;34m.\u001b[0m\u001b[0mfun\u001b[0m\u001b[0;34m\u001b[0m\u001b[0;34m\u001b[0m\u001b[0m\n\u001b[1;32m    472\u001b[0m         \u001b[0mself\u001b[0m\u001b[0;34m.\u001b[0m\u001b[0m_unpack\u001b[0m\u001b[0;34m(\u001b[0m\u001b[0mopt_res\u001b[0m\u001b[0;34m.\u001b[0m\u001b[0mx\u001b[0m\u001b[0;34m)\u001b[0m\u001b[0;34m\u001b[0m\u001b[0;34m\u001b[0m\u001b[0m\n",
      "\u001b[0;32m~/miniconda3/lib/python3.8/site-packages/sklearn/utils/optimize.py\u001b[0m in \u001b[0;36m_check_optimize_result\u001b[0;34m(solver, result, max_iter, extra_warning_msg)\u001b[0m\n\u001b[1;32m    241\u001b[0m                 \u001b[0;34m\"    https://scikit-learn.org/stable/modules/\"\u001b[0m\u001b[0;34m\u001b[0m\u001b[0;34m\u001b[0m\u001b[0m\n\u001b[1;32m    242\u001b[0m                 \u001b[0;34m\"preprocessing.html\"\u001b[0m\u001b[0;34m\u001b[0m\u001b[0;34m\u001b[0m\u001b[0m\n\u001b[0;32m--> 243\u001b[0;31m             ).format(solver, result.status, result.message.decode(\"latin1\"))\n\u001b[0m\u001b[1;32m    244\u001b[0m             \u001b[0;32mif\u001b[0m \u001b[0mextra_warning_msg\u001b[0m \u001b[0;32mis\u001b[0m \u001b[0;32mnot\u001b[0m \u001b[0;32mNone\u001b[0m\u001b[0;34m:\u001b[0m\u001b[0;34m\u001b[0m\u001b[0;34m\u001b[0m\u001b[0m\n\u001b[1;32m    245\u001b[0m                 \u001b[0mwarning_msg\u001b[0m \u001b[0;34m+=\u001b[0m \u001b[0;34m\"\\n\"\u001b[0m \u001b[0;34m+\u001b[0m \u001b[0mextra_warning_msg\u001b[0m\u001b[0;34m\u001b[0m\u001b[0;34m\u001b[0m\u001b[0m\n",
      "\u001b[0;31mAttributeError\u001b[0m: 'str' object has no attribute 'decode'"
     ]
    }
   ],
   "source": [
    "## test against Sckit Learn\n",
    "clf = MLPClassifier(solver='lbfgs', alpha=0.1, hidden_layer_sizes=(4,), random_state=1)\n",
    "clf.fit(train_features, train_labels)\n",
    "# clf.predict([[2., 2.], [-1., -2.]])"
   ]
  },
  {
   "cell_type": "code",
   "execution_count": null,
   "id": "sporting-romance",
   "metadata": {},
   "outputs": [],
   "source": []
  }
 ],
 "metadata": {
  "kernelspec": {
   "display_name": "Python 3",
   "language": "python",
   "name": "python3"
  },
  "language_info": {
   "codemirror_mode": {
    "name": "ipython",
    "version": 3
   },
   "file_extension": ".py",
   "mimetype": "text/x-python",
   "name": "python",
   "nbconvert_exporter": "python",
   "pygments_lexer": "ipython3",
   "version": "3.8.5"
  }
 },
 "nbformat": 4,
 "nbformat_minor": 5
}
