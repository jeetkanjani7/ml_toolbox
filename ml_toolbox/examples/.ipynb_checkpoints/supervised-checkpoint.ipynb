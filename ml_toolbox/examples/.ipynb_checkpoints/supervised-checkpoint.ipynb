{
 "cells": [
  {
   "cell_type": "code",
   "execution_count": 18,
   "id": "endangered-bread",
   "metadata": {},
   "outputs": [],
   "source": [
    "from ml_toolbox.neuralnet import NeuralNetwork\n",
    "from ml_toolbox.utils import data\n",
    "import numpy as np"
   ]
  },
  {
   "cell_type": "code",
   "execution_count": 4,
   "id": "broad-phone",
   "metadata": {},
   "outputs": [
    {
     "data": {
      "text/plain": [
       "<module 'ml_toolbox.neuralnet' from '/home/jeet/Repos/ml_toolbox/ml_toolbox/neuralnet.py'>"
      ]
     },
     "execution_count": 4,
     "metadata": {},
     "output_type": "execute_result"
    }
   ],
   "source": []
  },
  {
   "cell_type": "code",
   "execution_count": 19,
   "id": "exact-stadium",
   "metadata": {},
   "outputs": [],
   "source": [
    "X = np.array([[0., 0.], [1., 1.]])\n",
    "X_valid = np.array([[0., 1.]])\n",
    "\n",
    "y = np.array([0, 1])"
   ]
  },
  {
   "cell_type": "code",
   "execution_count": 22,
   "id": "nonprofit-regard",
   "metadata": {},
   "outputs": [],
   "source": [
    "nn = NeuralNetwork(X, y, learning_rate=0.1, num_classes=10, hidden_units=4, epochs=2, flag=2)"
   ]
  },
  {
   "cell_type": "code",
   "execution_count": 27,
   "id": "therapeutic-michael",
   "metadata": {},
   "outputs": [
    {
     "data": {
      "text/plain": [
       "2.005637440696022"
      ]
     },
     "execution_count": 27,
     "metadata": {},
     "output_type": "execute_result"
    }
   ],
   "source": [
    "\n",
    "nn.train(X, y, 'metrics.out')\n",
    "nn.forward_pass()"
   ]
  },
  {
   "cell_type": "code",
   "execution_count": null,
   "id": "looking-honduras",
   "metadata": {},
   "outputs": [],
   "source": []
  }
 ],
 "metadata": {
  "kernelspec": {
   "display_name": "Python 3",
   "language": "python",
   "name": "python3"
  },
  "language_info": {
   "codemirror_mode": {
    "name": "ipython",
    "version": 3
   },
   "file_extension": ".py",
   "mimetype": "text/x-python",
   "name": "python",
   "nbconvert_exporter": "python",
   "pygments_lexer": "ipython3",
   "version": "3.8.5"
  }
 },
 "nbformat": 4,
 "nbformat_minor": 5
}
